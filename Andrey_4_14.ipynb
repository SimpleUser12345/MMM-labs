{
 "cells": [
  {
   "cell_type": "code",
   "execution_count": 1,
   "metadata": {},
   "outputs": [],
   "source": [
    "import numpy as np"
   ]
  },
  {
   "cell_type": "code",
   "execution_count": 64,
   "metadata": {},
   "outputs": [
    {
     "data": {
      "text/plain": [
       "100"
      ]
     },
     "execution_count": 64,
     "metadata": {},
     "output_type": "execute_result"
    }
   ],
   "source": [
    "N=99\n",
    "A=np.zeros((N+1,N+1))\n",
    "F=np.zeros((N+1,1))\n",
    "for i in range(1,N+2):\n",
    "    F[i-1]=i/N\n",
    "\n",
    "len(F)"
   ]
  },
  {
   "cell_type": "code",
   "execution_count": 66,
   "metadata": {},
   "outputs": [],
   "source": [
    "for i in range(N+1):\n",
    "    A[N][i]=2\n",
    "for i in range(N):\n",
    "    A[i][i]=10+i+1\n",
    "    A[i,i+1:i+2]=1\n",
    "    A[i,i-1:i]=1\n",
    "    \n",
    "    "
   ]
  },
  {
   "cell_type": "code",
   "execution_count": 82,
   "metadata": {},
   "outputs": [],
   "source": [
    "def Gauss(A,F,N):\n",
    "    x=np.zeros((N,1))\n",
    "    for k in range(1,N):\n",
    "        for j in range(k,N):\n",
    "            c=A[j,k-1]/A[k-1,k-1]\n",
    "            A[j,:]=A[j,:]-c*A[k-1,:]\n",
    "            F[j]=F[j]-c*F[k-1]\n",
    "            \n",
    "    for i in range(N-1,-1,-1):\n",
    "        x[i]=F[i]/A[i,i]\n",
    "        for m in range(N-1,i,-1):\n",
    "            x[i]=x[i]-(A[i,m]*x[m])/A[i,i]\n",
    "    \n",
    "    return x"
   ]
  },
  {
   "cell_type": "code",
   "execution_count": 83,
   "metadata": {
    "collapsed": true
   },
   "outputs": [
    {
     "data": {
      "text/plain": [
       "array([[ 0.00077947],\n",
       "       [ 0.00152682],\n",
       "       [ 0.00201899],\n",
       "       [ 0.00252938],\n",
       "       [ 0.00297376],\n",
       "       [ 0.00336931],\n",
       "       [ 0.00372328],\n",
       "       [ 0.00404192],\n",
       "       [ 0.00433025],\n",
       "       [ 0.0045924 ],\n",
       "       [ 0.00483178],\n",
       "       [ 0.00505124],\n",
       "       [ 0.00525315],\n",
       "       [ 0.00543954],\n",
       "       [ 0.00561213],\n",
       "       [ 0.0057724 ],\n",
       "       [ 0.00592162],\n",
       "       [ 0.00606091],\n",
       "       [ 0.0061912 ],\n",
       "       [ 0.00631336],\n",
       "       [ 0.00642812],\n",
       "       [ 0.00653613],\n",
       "       [ 0.00663797],\n",
       "       [ 0.00673415],\n",
       "       [ 0.00682514],\n",
       "       [ 0.00691133],\n",
       "       [ 0.00699311],\n",
       "       [ 0.0070708 ],\n",
       "       [ 0.0071447 ],\n",
       "       [ 0.00721509],\n",
       "       [ 0.00728219],\n",
       "       [ 0.00734625],\n",
       "       [ 0.00740747],\n",
       "       [ 0.00746602],\n",
       "       [ 0.00752208],\n",
       "       [ 0.0075758 ],\n",
       "       [ 0.00762734],\n",
       "       [ 0.00767681],\n",
       "       [ 0.00772434],\n",
       "       [ 0.00777004],\n",
       "       [ 0.00781402],\n",
       "       [ 0.00785637],\n",
       "       [ 0.00789718],\n",
       "       [ 0.00793653],\n",
       "       [ 0.0079745 ],\n",
       "       [ 0.00801117],\n",
       "       [ 0.00804659],\n",
       "       [ 0.00808083],\n",
       "       [ 0.00811394],\n",
       "       [ 0.00814599],\n",
       "       [ 0.00817702],\n",
       "       [ 0.00820709],\n",
       "       [ 0.00823622],\n",
       "       [ 0.00826448],\n",
       "       [ 0.00829189],\n",
       "       [ 0.00831849],\n",
       "       [ 0.00834432],\n",
       "       [ 0.00836942],\n",
       "       [ 0.00839381],\n",
       "       [ 0.00841752],\n",
       "       [ 0.00844058],\n",
       "       [ 0.00846302],\n",
       "       [ 0.00848486],\n",
       "       [ 0.00850612],\n",
       "       [ 0.00852683],\n",
       "       [ 0.00854702],\n",
       "       [ 0.00856669],\n",
       "       [ 0.00858586],\n",
       "       [ 0.00860457],\n",
       "       [ 0.00862282],\n",
       "       [ 0.00864063],\n",
       "       [ 0.00865801],\n",
       "       [ 0.00867499],\n",
       "       [ 0.00869157],\n",
       "       [ 0.00870777],\n",
       "       [ 0.0087236 ],\n",
       "       [ 0.00873908],\n",
       "       [ 0.00875421],\n",
       "       [ 0.00876901],\n",
       "       [ 0.00878349],\n",
       "       [ 0.00879766],\n",
       "       [ 0.00881152],\n",
       "       [ 0.0088251 ],\n",
       "       [ 0.00883839],\n",
       "       [ 0.0088514 ],\n",
       "       [ 0.00886415],\n",
       "       [ 0.00887665],\n",
       "       [ 0.00888889],\n",
       "       [ 0.00890089],\n",
       "       [ 0.00891266],\n",
       "       [ 0.0089242 ],\n",
       "       [ 0.00893551],\n",
       "       [ 0.00894661],\n",
       "       [ 0.0089575 ],\n",
       "       [ 0.00896819],\n",
       "       [ 0.00897868],\n",
       "       [ 0.00898917],\n",
       "       [ 0.0089786 ],\n",
       "       [ 0.01122067],\n",
       "       [-0.23203182]])"
      ]
     },
     "execution_count": 83,
     "metadata": {},
     "output_type": "execute_result"
    }
   ],
   "source": [
    "Gauss(A,F,N+1)"
   ]
  },
  {
   "cell_type": "code",
   "execution_count": 100,
   "metadata": {},
   "outputs": [
    {
     "name": "stdout",
     "output_type": "stream",
     "text": [
      "Число обусловленности: 11.25227066680821\n"
     ]
    }
   ],
   "source": [
    "A_inv=np.linalg.inv(A)\n",
    "μ1=(np.linalg.norm(np.dot(A,Gauss(A,F,N+1)))/np.linalg.norm(Gauss(A,F,N+1)))*(np.linalg.norm(np.dot(A_inv,Gauss(A,F,N+1)))/np.linalg.norm(Gauss(A,F,N+1)))\n",
    "print('Число обусловленности:',μ1)"
   ]
  },
  {
   "cell_type": "code",
   "execution_count": 81,
   "metadata": {},
   "outputs": [
    {
     "name": "stdout",
     "output_type": "stream",
     "text": [
      "Норма невязки:\n"
     ]
    },
    {
     "data": {
      "text/plain": [
       "5.411447570143124e-16"
      ]
     },
     "execution_count": 81,
     "metadata": {},
     "output_type": "execute_result"
    }
   ],
   "source": [
    "print('Норма невязки Гаусс:')\n",
    "np.linalg.norm(np.dot(A,Gauss(A,F,N+1))-F)"
   ]
  },
  {
   "cell_type": "code",
   "execution_count": 92,
   "metadata": {},
   "outputs": [],
   "source": [
    "A1=np.copy(A)\n",
    "b1=np.copy(F)\n",
    "E=0.0001\n",
    "\n",
    "def Gauss_Zeidel(A1,b1,E):\n",
    "    n1=len(A1)\n",
    "    x=np.zeros((n1,1))\n",
    "    iter=0\n",
    "    converge = False\n",
    "    while not converge:\n",
    "        x_new = np.copy(x)\n",
    "        for i in range(n1):\n",
    "            s1 = sum(A1[i][j] * x_new[j] for j in range(i))\n",
    "            s2 = sum(A1[i][j] * x[j] for j in range(i + 1, n1))\n",
    "            \n",
    "            x_new[i] = (b1[i] - s1 - s2) / A1[i][i]\n",
    "         \n",
    "        converge =np.linalg.norm(x_new-x)<=E\n",
    "        iter+=1\n",
    "        x = x_new\n",
    "    #print(\"iter =\",iter)      \n",
    "    return x"
   ]
  },
  {
   "cell_type": "code",
   "execution_count": 93,
   "metadata": {},
   "outputs": [
    {
     "data": {
      "text/plain": [
       "array([[ 0.00078097],\n",
       "       [ 0.00152821],\n",
       "       [ 0.00202024],\n",
       "       [ 0.0025305 ],\n",
       "       [ 0.00297476],\n",
       "       [ 0.00337021],\n",
       "       [ 0.00372408],\n",
       "       [ 0.00404263],\n",
       "       [ 0.00433089],\n",
       "       [ 0.00459298],\n",
       "       [ 0.0048323 ],\n",
       "       [ 0.0050517 ],\n",
       "       [ 0.00525357],\n",
       "       [ 0.00543992],\n",
       "       [ 0.00561248],\n",
       "       [ 0.00577272],\n",
       "       [ 0.00592191],\n",
       "       [ 0.00606117],\n",
       "       [ 0.00619145],\n",
       "       [ 0.00631359],\n",
       "       [ 0.00642833],\n",
       "       [ 0.00653632],\n",
       "       [ 0.00663814],\n",
       "       [ 0.00673431],\n",
       "       [ 0.00682529],\n",
       "       [ 0.00691148],\n",
       "       [ 0.00699324],\n",
       "       [ 0.00707092],\n",
       "       [ 0.00714482],\n",
       "       [ 0.00721519],\n",
       "       [ 0.0072823 ],\n",
       "       [ 0.00734635],\n",
       "       [ 0.00740756],\n",
       "       [ 0.0074661 ],\n",
       "       [ 0.00752216],\n",
       "       [ 0.00757588],\n",
       "       [ 0.00762741],\n",
       "       [ 0.00767687],\n",
       "       [ 0.0077244 ],\n",
       "       [ 0.0077701 ],\n",
       "       [ 0.00781408],\n",
       "       [ 0.00785642],\n",
       "       [ 0.00789723],\n",
       "       [ 0.00793658],\n",
       "       [ 0.00797455],\n",
       "       [ 0.00801121],\n",
       "       [ 0.00804663],\n",
       "       [ 0.00808087],\n",
       "       [ 0.00811398],\n",
       "       [ 0.00814603],\n",
       "       [ 0.00817706],\n",
       "       [ 0.00820712],\n",
       "       [ 0.00823625],\n",
       "       [ 0.00826451],\n",
       "       [ 0.00829192],\n",
       "       [ 0.00831852],\n",
       "       [ 0.00834435],\n",
       "       [ 0.00836944],\n",
       "       [ 0.00839383],\n",
       "       [ 0.00841754],\n",
       "       [ 0.0084406 ],\n",
       "       [ 0.00846304],\n",
       "       [ 0.00848488],\n",
       "       [ 0.00850614],\n",
       "       [ 0.00852685],\n",
       "       [ 0.00854703],\n",
       "       [ 0.0085667 ],\n",
       "       [ 0.00858588],\n",
       "       [ 0.00860459],\n",
       "       [ 0.00862284],\n",
       "       [ 0.00864064],\n",
       "       [ 0.00865803],\n",
       "       [ 0.008675  ],\n",
       "       [ 0.00869159],\n",
       "       [ 0.00870779],\n",
       "       [ 0.00872362],\n",
       "       [ 0.00873909],\n",
       "       [ 0.00875422],\n",
       "       [ 0.00876902],\n",
       "       [ 0.0087835 ],\n",
       "       [ 0.00879767],\n",
       "       [ 0.00881153],\n",
       "       [ 0.00882511],\n",
       "       [ 0.0088384 ],\n",
       "       [ 0.00885141],\n",
       "       [ 0.00886416],\n",
       "       [ 0.00887666],\n",
       "       [ 0.0088889 ],\n",
       "       [ 0.0089009 ],\n",
       "       [ 0.00891267],\n",
       "       [ 0.0089242 ],\n",
       "       [ 0.00893552],\n",
       "       [ 0.00894662],\n",
       "       [ 0.00895751],\n",
       "       [ 0.0089682 ],\n",
       "       [ 0.00897868],\n",
       "       [ 0.00898898],\n",
       "       [ 0.0089786 ],\n",
       "       [ 0.01122067],\n",
       "       [-0.23203182]])"
      ]
     },
     "execution_count": 93,
     "metadata": {},
     "output_type": "execute_result"
    }
   ],
   "source": [
    "Gauss_Zeidel(A1,b1,E)"
   ]
  },
  {
   "cell_type": "code",
   "execution_count": 94,
   "metadata": {},
   "outputs": [
    {
     "name": "stdout",
     "output_type": "stream",
     "text": [
      "Норма невязки Гаусс-Зейдель:\n"
     ]
    },
    {
     "data": {
      "text/plain": [
       "6.442247291760068e-05"
      ]
     },
     "execution_count": 94,
     "metadata": {},
     "output_type": "execute_result"
    }
   ],
   "source": [
    "print('Норма невязки Гаусс-Зейдель:')\n",
    "np.linalg.norm(np.dot(A,Gauss_Zeidel(A1,b1,E))-F)"
   ]
  },
  {
   "cell_type": "code",
   "execution_count": 95,
   "metadata": {},
   "outputs": [
    {
     "data": {
      "text/plain": [
       "11.25227200251302"
      ]
     },
     "execution_count": 95,
     "metadata": {},
     "output_type": "execute_result"
    }
   ],
   "source": [
    "μ2=(np.linalg.norm(np.dot(A,Gauss_Zeidel(A1,b1,E)))/np.linalg.norm(Gauss_Zeidel(A1,b1,E)))*(np.linalg.norm(np.dot(A_inv,Gauss_Zeidel(A1,b1,E)))/np.linalg.norm(Gauss_Zeidel(A1,b1,E)))\n",
    "μ2"
   ]
  },
  {
   "cell_type": "code",
   "execution_count": 98,
   "metadata": {},
   "outputs": [
    {
     "name": "stdout",
     "output_type": "stream",
     "text": [
      "1.9818181676484832\n",
      "108.99073993934982\n"
     ]
    }
   ],
   "source": [
    "λ=np.linalg.eig(A)\n",
    "print(min(λ[0]))\n",
    "print(max(λ[0]))"
   ]
  },
  {
   "cell_type": "code",
   "execution_count": null,
   "metadata": {},
   "outputs": [],
   "source": []
  }
 ],
 "metadata": {
  "kernelspec": {
   "display_name": "Python 3",
   "language": "python",
   "name": "python3"
  },
  "language_info": {
   "codemirror_mode": {
    "name": "ipython",
    "version": 3
   },
   "file_extension": ".py",
   "mimetype": "text/x-python",
   "name": "python",
   "nbconvert_exporter": "python",
   "pygments_lexer": "ipython3",
   "version": "3.7.4"
  }
 },
 "nbformat": 4,
 "nbformat_minor": 2
}
