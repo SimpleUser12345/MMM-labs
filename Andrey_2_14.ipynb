{
 "cells": [
  {
   "cell_type": "code",
   "execution_count": 1,
   "metadata": {},
   "outputs": [],
   "source": [
    "import matplotlib.pyplot as plt\n",
    "import numpy as np"
   ]
  },
  {
   "cell_type": "code",
   "execution_count": 34,
   "metadata": {},
   "outputs": [],
   "source": [
    "def f(x):\n",
    "    return (x**4+4*x**3-12*x**2+1)\n",
    "x=[i for i in np.arange(-0.5,0, 0.01)]\n",
    "f1=[]\n",
    "for i in np.arange(-0.5,0, 0.01):\n",
    "    f1.append(f(i))\n"
   ]
  },
  {
   "cell_type": "code",
   "execution_count": 33,
   "metadata": {},
   "outputs": [
    {
     "data": {
      "image/png": "[encoded data removed]",
      "text/plain": [
       "<Figure size 432x288 with 1 Axes>"
      ]
     },
     "metadata": {
      "needs_background": "light"
     },
     "output_type": "display_data"
    }
   ],
   "source": [
    "plt.plot(x,f1)\n",
    "plt.plot(-0.28,0,'o',color='r')\n",
    "plt.grid()\n"
   ]
  },
  {
   "cell_type": "code",
   "execution_count": 16,
   "metadata": {},
   "outputs": [],
   "source": [
    "def dfdx(x):\n",
    "    return (4*x**3+12*x**2-24*x)\n",
    "\n",
    "x=[i for i in np.arange(-0.5,0, 0.01)]\n",
    "f2=[]\n",
    "for i in np.arange(-2,1, 0.01):\n",
    "    f2.append(dfdx(i))"
   ]
  },
  {
   "cell_type": "code",
   "execution_count": 17,
   "metadata": {},
   "outputs": [
    {
     "data": {
      "image/png": "[encoded data removed]",
      "text/plain": [
       "<Figure size 432x288 with 1 Axes>"
      ]
     },
     "metadata": {
      "needs_background": "light"
     },
     "output_type": "display_data"
    }
   ],
   "source": [
    "plt.plot(x,f2)\n",
    "plt.grid()"
   ]
  },
  {
   "cell_type": "code",
   "execution_count": 39,
   "metadata": {},
   "outputs": [
    {
     "name": "stdout",
     "output_type": "stream",
     "text": [
      "-0.277 -0.223\n",
      " корень лежит на отрезке: [-0.20000000000000004,0.30000000000000004];iter=3\n"
     ]
    }
   ],
   "source": [
    "i=-0.5\n",
    "j=0\n",
    "while f(i)*f(j)<0 and dfdx(i)*dfdx(j)>=0:\n",
    "    i+=0.00001\n",
    "    j-=0.00001\n",
    "    \n",
    "print(round(i,3),round(j,3))\n",
    "\n",
    "E=0.0001\n",
    "a=-0.5\n",
    "b=0\n",
    "n=0\n",
    "while((f(a)*f(b))<0):\n",
    "    a+=0.1\n",
    "    b+=0.1\n",
    "    n+=1\n",
    "print(\" корень лежит на отрезке: [{0},{1}];iter={2}\".format(a,b,n))\n",
    "\n"
   ]
  },
  {
   "cell_type": "code",
   "execution_count": 35,
   "metadata": {},
   "outputs": [],
   "source": [
    "def md(a,b):\n",
    "    iter=0\n",
    "    while abs(b-a)>E:\n",
    "        c=(a+b)/2\n",
    "        if f(c)==0:\n",
    "            break\n",
    "        if f(a)*f(c)<0:\n",
    "            b=c\n",
    "        else:\n",
    "            a=c\n",
    "        iter+=1    \n",
    "        x=(a+b)/2\n",
    "    print(\"iter=\",iter)\n",
    "    print(\"x=\",x)\n",
    "    print(\"f(x)=\",f(x))"
   ]
  },
  {
   "cell_type": "code",
   "execution_count": 36,
   "metadata": {},
   "outputs": [
    {
     "name": "stdout",
     "output_type": "stream",
     "text": [
      "iter= 13\n",
      "x= -0.277008056640625\n",
      "f(x)= 6.331273479154298e-05\n"
     ]
    }
   ],
   "source": [
    "a, b = -0.5, 0\n",
    "md(a,b)"
   ]
  },
  {
   "cell_type": "code",
   "execution_count": 37,
   "metadata": {},
   "outputs": [],
   "source": [
    "def mh(a,b):\n",
    "    iter=0\n",
    "    x1=a-f(a)*(b-a)/(f(b)-f(a))\n",
    "    if f(a)*f(x1)<0:\n",
    "        b=x1\n",
    "    else:\n",
    "        a=x1\n",
    "    x2=a-f(a)*(b-a)/(f(b)-f(a))\n",
    "    while abs(x2 - x1)>E:\n",
    "        if f(x2)==0:\n",
    "            break\n",
    "        if f(a)*f(x2)<0:\n",
    "            b=x2\n",
    "        else:\n",
    "            a=x2\n",
    "        x1=x2\n",
    "        x2=a-f(a)*(b-a)/(f(b)-f(a))\n",
    "        iter += 1\n",
    "    print(\"x =\",x2)\n",
    "    print(\"f(x) =\",f(x2)) \n",
    "    print(\"число итераций:\",iter)"
   ]
  },
  {
   "cell_type": "code",
   "execution_count": 38,
   "metadata": {},
   "outputs": [
    {
     "name": "stdout",
     "output_type": "stream",
     "text": [
      "x = -0.2769996651981146\n",
      "f(x) = 0.00012611300700715589\n",
      "число итераций: 7\n"
     ]
    }
   ],
   "source": [
    "mh(a,b)"
   ]
  },
  {
   "cell_type": "code",
   "execution_count": 40,
   "metadata": {},
   "outputs": [],
   "source": [
    "def ff(x):\n",
    "    return np.exp(-2*x)+2-(5**x)\n",
    "def dffdx(x):\n",
    "    return -5**x*np.log(5)-2*np.exp(-2*x)"
   ]
  },
  {
   "cell_type": "code",
   "execution_count": 45,
   "metadata": {},
   "outputs": [],
   "source": [
    "E=0.0001\n",
    "def mn(x):\n",
    "    iter=0\n",
    "    x1=x\n",
    "    x2=x1-ff(x1)/dffdx(x1)\n",
    "    while abs(ff(x2))>E:\n",
    "        x1=x2\n",
    "        x2=x1-ff(x1)/dffdx(x1)\n",
    "        iter+=1\n",
    "        \n",
    "    print('iter: ', iter)\n",
    "    print('x=', x2)\n",
    "    print('f(x)=', ff(x2))\n"
   ]
  },
  {
   "cell_type": "code",
   "execution_count": 46,
   "metadata": {},
   "outputs": [
    {
     "name": "stdout",
     "output_type": "stream",
     "text": [
      "iter:  2\n",
      "x= 0.5299496140550224\n",
      "f(x)= -2.2749234851460187e-07\n"
     ]
    }
   ],
   "source": [
    "mn(0)"
   ]
  },
  {
   "cell_type": "code",
   "execution_count": 48,
   "metadata": {},
   "outputs": [],
   "source": [
    "def f1(x,y):\n",
    "    return x**2+y**2-9\n",
    "def f2(x,y):\n",
    "    return y-np.exp(-x)-1\n",
    "def f11(x):\n",
    "    return 2*x\n",
    "def f12(y):\n",
    "    return 2*y\n",
    "def f21(x):\n",
    "    return -np.exp(-x)\n",
    "def f22(y):\n",
    "    return 1\n",
    "def W(x):\n",
    "    return np.array([[f11(x[0]),f12(x[1])],[f21(x[0]),f22(x[1])]])\n",
    "def F(x):\n",
    "    return np.array([f1(x[0],x[1]),f2(x[0],x[1])])"
   ]
  },
  {
   "cell_type": "code",
   "execution_count": 49,
   "metadata": {},
   "outputs": [],
   "source": [
    "\n",
    "def mn_syst(x,E):\n",
    "    iter=0\n",
    "    x1=x    \n",
    "    x2=x1-(np.dot(np.linalg.inv(W(x1)),F(x1)))\n",
    "    while (abs(x2[0]-x1[0])>E and abs(x2[1]-x1[1])>E):\n",
    "        x1=x2\n",
    "        x2=x1-(np.dot(np.linalg.inv(W(x1)),F(x1)))\n",
    "        iter+=1\n",
    "    print(\"iter=\",iter)\n",
    "    print(\"X=\",x2)\n",
    "    print(\"F(x)=\",F(x2))"
   ]
  },
  {
   "cell_type": "code",
   "execution_count": 51,
   "metadata": {},
   "outputs": [
    {
     "name": "stdout",
     "output_type": "stream",
     "text": [
      "iter= 7\n",
      "X= [2.80633456 1.06041802]\n",
      "F(x)= [ 3.35882415e-08 -8.05257592e-06]\n"
     ]
    }
   ],
   "source": [
    "mn_syst([-0.5,2],E)"
   ]
  },
  {
   "cell_type": "code",
   "execution_count": null,
   "metadata": {},
   "outputs": [],
   "source": []
  }
 ],
 "metadata": {
  "kernelspec": {
   "display_name": "Python 3",
   "language": "python",
   "name": "python3"
  },
  "language_info": {
   "codemirror_mode": {
    "name": "ipython",
    "version": 3
   },
   "file_extension": ".py",
   "mimetype": "text/x-python",
   "name": "python",
   "nbconvert_exporter": "python",
   "pygments_lexer": "ipython3",
   "version": "3.7.4"
  }
 },
 "nbformat": 4,
 "nbformat_minor": 2
}
